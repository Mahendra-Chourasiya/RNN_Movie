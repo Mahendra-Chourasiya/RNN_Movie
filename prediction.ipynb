{
 "cells": [
  {
   "cell_type": "code",
   "execution_count": 1,
   "metadata": {},
   "outputs": [],
   "source": [
    "# Step 1: Import Libraries and Load the Model\n",
    "import numpy as np\n",
    "import tensorflow as tf\n",
    "from tensorflow.keras.datasets import imdb\n",
    "from tensorflow.keras.preprocessing import sequence\n",
    "from tensorflow.keras.models import load_model"
   ]
  },
  {
   "cell_type": "code",
   "execution_count": 2,
   "metadata": {},
   "outputs": [],
   "source": [
    "\n",
    "# Load the IMDB dataset word index\n",
    "word_index = imdb.get_word_index()\n",
    "reverse_word_index = {value: key for key, value in word_index.items()}"
   ]
  },
  {
   "cell_type": "code",
   "execution_count": 3,
   "metadata": {},
   "outputs": [
    {
     "name": "stderr",
     "output_type": "stream",
     "text": [
      "WARNING:absl:Compiled the loaded model, but the compiled metrics have yet to be built. `model.compile_metrics` will be empty until you train or evaluate the model.\n"
     ]
    },
    {
     "data": {
      "text/html": [
       "<pre style=\"white-space:pre;overflow-x:auto;line-height:normal;font-family:Menlo,'DejaVu Sans Mono',consolas,'Courier New',monospace\"><span style=\"font-weight: bold\">Model: \"sequential\"</span>\n",
       "</pre>\n"
      ],
      "text/plain": [
       "\u001b[1mModel: \"sequential\"\u001b[0m\n"
      ]
     },
     "metadata": {},
     "output_type": "display_data"
    },
    {
     "data": {
      "text/html": [
       "<pre style=\"white-space:pre;overflow-x:auto;line-height:normal;font-family:Menlo,'DejaVu Sans Mono',consolas,'Courier New',monospace\">┏━━━━━━━━━━━━━━━━━━━━━━━━━━━━━━━━━┳━━━━━━━━━━━━━━━━━━━━━━━━┳━━━━━━━━━━━━━━━┓\n",
       "┃<span style=\"font-weight: bold\"> Layer (type)                    </span>┃<span style=\"font-weight: bold\"> Output Shape           </span>┃<span style=\"font-weight: bold\">       Param # </span>┃\n",
       "┡━━━━━━━━━━━━━━━━━━━━━━━━━━━━━━━━━╇━━━━━━━━━━━━━━━━━━━━━━━━╇━━━━━━━━━━━━━━━┩\n",
       "│ embedding (<span style=\"color: #0087ff; text-decoration-color: #0087ff\">Embedding</span>)           │ (<span style=\"color: #00af00; text-decoration-color: #00af00\">32</span>, <span style=\"color: #00af00; text-decoration-color: #00af00\">500</span>, <span style=\"color: #00af00; text-decoration-color: #00af00\">128</span>)         │     <span style=\"color: #00af00; text-decoration-color: #00af00\">1,280,000</span> │\n",
       "├─────────────────────────────────┼────────────────────────┼───────────────┤\n",
       "│ simple_rnn (<span style=\"color: #0087ff; text-decoration-color: #0087ff\">SimpleRNN</span>)          │ (<span style=\"color: #00af00; text-decoration-color: #00af00\">32</span>, <span style=\"color: #00af00; text-decoration-color: #00af00\">128</span>)              │        <span style=\"color: #00af00; text-decoration-color: #00af00\">32,896</span> │\n",
       "├─────────────────────────────────┼────────────────────────┼───────────────┤\n",
       "│ dense (<span style=\"color: #0087ff; text-decoration-color: #0087ff\">Dense</span>)                   │ (<span style=\"color: #00af00; text-decoration-color: #00af00\">32</span>, <span style=\"color: #00af00; text-decoration-color: #00af00\">1</span>)                │           <span style=\"color: #00af00; text-decoration-color: #00af00\">129</span> │\n",
       "└─────────────────────────────────┴────────────────────────┴───────────────┘\n",
       "</pre>\n"
      ],
      "text/plain": [
       "┏━━━━━━━━━━━━━━━━━━━━━━━━━━━━━━━━━┳━━━━━━━━━━━━━━━━━━━━━━━━┳━━━━━━━━━━━━━━━┓\n",
       "┃\u001b[1m \u001b[0m\u001b[1mLayer (type)                   \u001b[0m\u001b[1m \u001b[0m┃\u001b[1m \u001b[0m\u001b[1mOutput Shape          \u001b[0m\u001b[1m \u001b[0m┃\u001b[1m \u001b[0m\u001b[1m      Param #\u001b[0m\u001b[1m \u001b[0m┃\n",
       "┡━━━━━━━━━━━━━━━━━━━━━━━━━━━━━━━━━╇━━━━━━━━━━━━━━━━━━━━━━━━╇━━━━━━━━━━━━━━━┩\n",
       "│ embedding (\u001b[38;5;33mEmbedding\u001b[0m)           │ (\u001b[38;5;34m32\u001b[0m, \u001b[38;5;34m500\u001b[0m, \u001b[38;5;34m128\u001b[0m)         │     \u001b[38;5;34m1,280,000\u001b[0m │\n",
       "├─────────────────────────────────┼────────────────────────┼───────────────┤\n",
       "│ simple_rnn (\u001b[38;5;33mSimpleRNN\u001b[0m)          │ (\u001b[38;5;34m32\u001b[0m, \u001b[38;5;34m128\u001b[0m)              │        \u001b[38;5;34m32,896\u001b[0m │\n",
       "├─────────────────────────────────┼────────────────────────┼───────────────┤\n",
       "│ dense (\u001b[38;5;33mDense\u001b[0m)                   │ (\u001b[38;5;34m32\u001b[0m, \u001b[38;5;34m1\u001b[0m)                │           \u001b[38;5;34m129\u001b[0m │\n",
       "└─────────────────────────────────┴────────────────────────┴───────────────┘\n"
      ]
     },
     "metadata": {},
     "output_type": "display_data"
    },
    {
     "data": {
      "text/html": [
       "<pre style=\"white-space:pre;overflow-x:auto;line-height:normal;font-family:Menlo,'DejaVu Sans Mono',consolas,'Courier New',monospace\"><span style=\"font-weight: bold\"> Total params: </span><span style=\"color: #00af00; text-decoration-color: #00af00\">1,313,027</span> (5.01 MB)\n",
       "</pre>\n"
      ],
      "text/plain": [
       "\u001b[1m Total params: \u001b[0m\u001b[38;5;34m1,313,027\u001b[0m (5.01 MB)\n"
      ]
     },
     "metadata": {},
     "output_type": "display_data"
    },
    {
     "data": {
      "text/html": [
       "<pre style=\"white-space:pre;overflow-x:auto;line-height:normal;font-family:Menlo,'DejaVu Sans Mono',consolas,'Courier New',monospace\"><span style=\"font-weight: bold\"> Trainable params: </span><span style=\"color: #00af00; text-decoration-color: #00af00\">1,313,025</span> (5.01 MB)\n",
       "</pre>\n"
      ],
      "text/plain": [
       "\u001b[1m Trainable params: \u001b[0m\u001b[38;5;34m1,313,025\u001b[0m (5.01 MB)\n"
      ]
     },
     "metadata": {},
     "output_type": "display_data"
    },
    {
     "data": {
      "text/html": [
       "<pre style=\"white-space:pre;overflow-x:auto;line-height:normal;font-family:Menlo,'DejaVu Sans Mono',consolas,'Courier New',monospace\"><span style=\"font-weight: bold\"> Non-trainable params: </span><span style=\"color: #00af00; text-decoration-color: #00af00\">0</span> (0.00 B)\n",
       "</pre>\n"
      ],
      "text/plain": [
       "\u001b[1m Non-trainable params: \u001b[0m\u001b[38;5;34m0\u001b[0m (0.00 B)\n"
      ]
     },
     "metadata": {},
     "output_type": "display_data"
    },
    {
     "data": {
      "text/html": [
       "<pre style=\"white-space:pre;overflow-x:auto;line-height:normal;font-family:Menlo,'DejaVu Sans Mono',consolas,'Courier New',monospace\"><span style=\"font-weight: bold\"> Optimizer params: </span><span style=\"color: #00af00; text-decoration-color: #00af00\">2</span> (12.00 B)\n",
       "</pre>\n"
      ],
      "text/plain": [
       "\u001b[1m Optimizer params: \u001b[0m\u001b[38;5;34m2\u001b[0m (12.00 B)\n"
      ]
     },
     "metadata": {},
     "output_type": "display_data"
    }
   ],
   "source": [
    "# Load the pre-trained model with ReLU activation\n",
    "model = load_model('simple_rnn_imdb.h5')\n",
    "model.summary()"
   ]
  },
  {
   "cell_type": "code",
   "execution_count": 4,
   "metadata": {},
   "outputs": [
    {
     "data": {
      "text/plain": [
       "[array([[ 0.22718807,  0.32889107, -0.7535357 , ..., -0.6350522 ,\n",
       "         -0.8016994 , -0.8562109 ],\n",
       "        [-0.05964756,  0.06987108, -0.03856327, ..., -0.04921074,\n",
       "         -0.04359423, -0.04755079],\n",
       "        [-0.07558241, -0.00802382,  0.01319902, ..., -0.03118631,\n",
       "          0.01512495, -0.01827405],\n",
       "        ...,\n",
       "        [-0.06535929,  0.02229886,  0.05908526, ...,  0.06798309,\n",
       "         -0.04976472,  0.02689109],\n",
       "        [ 0.00954727,  0.06369597,  0.06745693, ...,  0.06801779,\n",
       "          0.09178841,  0.08286788],\n",
       "        [-0.05245493,  0.0476475 , -0.01875841, ..., -0.00565372,\n",
       "          0.06764165, -0.03897842]], dtype=float32),\n",
       " array([[-0.07816783, -0.05879799,  0.02953303, ..., -0.04041735,\n",
       "          0.0238143 ,  0.12550399],\n",
       "        [ 0.04564588, -0.04992896,  0.05270354, ...,  0.02592592,\n",
       "         -0.03624267, -0.06544801],\n",
       "        [ 0.06985274,  0.02667296, -0.01957873, ...,  0.03649798,\n",
       "         -0.04664749, -0.0517153 ],\n",
       "        ...,\n",
       "        [ 0.10559577, -0.13527733,  0.14666456, ...,  0.07562885,\n",
       "         -0.03900323,  0.04492142],\n",
       "        [ 0.04513784, -0.11771759,  0.1206492 , ...,  0.07453746,\n",
       "          0.03470329,  0.0740061 ],\n",
       "        [-0.10274459,  0.08459993,  0.071916  , ..., -0.04951371,\n",
       "          0.1072972 , -0.08744679]], dtype=float32),\n",
       " array([[ 1.3703719e-02, -3.5257578e-02, -1.0579231e-01, ...,\n",
       "         -1.9334079e-01,  1.5378869e-02, -6.6277511e-02],\n",
       "        [-4.3295909e-02, -1.1285149e-02, -2.4263728e-02, ...,\n",
       "         -6.7470364e-02, -1.2295016e-01,  2.4803806e-02],\n",
       "        [-8.1288055e-02, -4.9175818e-02,  5.4021861e-02, ...,\n",
       "          2.3560949e-01,  1.9737823e-01, -3.2315943e-02],\n",
       "        ...,\n",
       "        [-1.0526415e-01, -1.2724569e-01,  7.1874127e-02, ...,\n",
       "         -1.8084498e-01, -7.2093536e-03,  2.7744913e-02],\n",
       "        [-6.4256296e-02,  1.3832341e-01,  1.2041332e-02, ...,\n",
       "          5.9023343e-05, -1.5662333e-02, -8.1958696e-02],\n",
       "        [-5.6802455e-02,  1.3935985e-01,  2.0035811e-02, ...,\n",
       "         -2.9006491e-03,  6.3529544e-02, -2.1682630e-01]], dtype=float32),\n",
       " array([ 1.90200992e-02,  5.35386568e-03,  3.09003796e-02, -7.05474429e-03,\n",
       "        -6.88950589e-04, -1.17004681e-02,  1.03279548e-02,  1.23069277e-02,\n",
       "         2.12882478e-02, -1.68821923e-02,  1.26801450e-02, -1.50620826e-02,\n",
       "         4.26570233e-03,  8.64184927e-03, -3.85162793e-03, -1.88131947e-02,\n",
       "        -4.20696056e-03,  1.64231677e-02, -9.49105527e-03,  5.37731079e-03,\n",
       "        -2.94414652e-03,  1.16679603e-02, -1.45589132e-02, -5.17283042e-05,\n",
       "        -7.05361366e-03,  4.60956537e-04, -1.08399680e-02, -1.15714967e-02,\n",
       "         4.57067974e-03, -5.27344644e-03,  1.11912498e-02, -7.67188706e-03,\n",
       "         6.39774589e-05, -6.08843053e-03, -1.28230453e-02, -8.78563058e-03,\n",
       "        -1.32043129e-02, -1.89090278e-02, -1.05532082e-02,  3.05803493e-03,\n",
       "        -3.49608324e-02, -1.55199915e-02, -1.69074479e-02, -7.09192362e-03,\n",
       "        -7.38956593e-03,  5.84028102e-03, -1.38904257e-02,  4.91733756e-03,\n",
       "         1.34713380e-02, -8.83498322e-03, -1.38511397e-02, -6.02403609e-03,\n",
       "        -1.78757813e-02,  1.49275269e-02, -1.58833507e-02, -1.65926218e-02,\n",
       "         1.46847907e-02, -2.36402382e-03,  5.37415547e-03,  1.08658161e-03,\n",
       "        -1.10465623e-02,  1.58721488e-02, -1.44672515e-02,  3.05510927e-02,\n",
       "        -1.21729786e-03,  8.18920601e-03, -4.73290775e-03, -1.49705149e-02,\n",
       "        -5.05797938e-03,  1.23209199e-02,  1.97203942e-02, -2.03384347e-02,\n",
       "         5.69358002e-03, -2.61875819e-02,  1.65470187e-02, -4.71794192e-04,\n",
       "         1.30104674e-02, -8.68466124e-03, -1.43224876e-02, -3.87251028e-03,\n",
       "        -2.13588160e-02, -2.57777050e-04,  2.43134075e-03, -1.39263505e-02,\n",
       "         9.40854568e-03, -1.77753251e-02,  5.25848567e-03,  3.52415368e-02,\n",
       "         2.88712401e-02, -2.40735170e-02,  2.31946702e-03, -1.85504518e-02,\n",
       "        -8.22005421e-03, -2.23687384e-02, -2.61512026e-03, -6.09279936e-03,\n",
       "        -3.88377868e-02,  9.82199702e-03,  1.70261902e-03,  8.12310074e-03,\n",
       "         3.67308892e-02,  6.63291570e-03,  1.67397503e-02,  2.05178596e-02,\n",
       "         4.34647920e-03,  1.39230415e-02,  4.00165608e-03, -7.45008327e-03,\n",
       "        -8.02792143e-03,  1.37815215e-02, -2.01160572e-02, -6.34979224e-03,\n",
       "        -8.91104527e-03,  8.01091781e-04,  2.66481307e-03, -1.03690932e-02,\n",
       "        -1.72688533e-02, -5.28652640e-03, -4.68509197e-02,  2.90197171e-02,\n",
       "         2.37893369e-02, -1.67847029e-03,  8.98638275e-03,  2.19911058e-02,\n",
       "         3.81114706e-03,  9.16758273e-03, -9.64082126e-03, -9.11551062e-03],\n",
       "       dtype=float32),\n",
       " array([[ 7.18765199e-01],\n",
       "        [-2.05543518e-01],\n",
       "        [ 2.07522705e-01],\n",
       "        [-1.20853901e+00],\n",
       "        [ 4.20600409e-03],\n",
       "        [-7.85623074e-01],\n",
       "        [ 5.78729451e-01],\n",
       "        [ 1.45705253e-01],\n",
       "        [ 1.45231232e-01],\n",
       "        [ 8.84221792e-02],\n",
       "        [-2.43113533e-01],\n",
       "        [-6.96721673e-02],\n",
       "        [ 1.47767082e-01],\n",
       "        [-4.69136178e-01],\n",
       "        [-3.25043760e-02],\n",
       "        [-8.07877362e-01],\n",
       "        [-1.16559908e-01],\n",
       "        [ 1.40751526e-01],\n",
       "        [-1.60924181e-01],\n",
       "        [-9.65147242e-02],\n",
       "        [ 1.30616397e-01],\n",
       "        [ 7.24819228e-02],\n",
       "        [-2.83163274e-04],\n",
       "        [-8.37616175e-02],\n",
       "        [ 7.26578385e-02],\n",
       "        [-7.84751251e-02],\n",
       "        [-1.80902258e-01],\n",
       "        [ 6.44190758e-02],\n",
       "        [ 5.21175824e-02],\n",
       "        [ 1.67090118e-01],\n",
       "        [ 2.11400509e-01],\n",
       "        [-6.51265264e-01],\n",
       "        [-5.95141053e-01],\n",
       "        [-4.50984836e-01],\n",
       "        [ 1.04479203e-02],\n",
       "        [-2.30838552e-01],\n",
       "        [-1.94952548e-01],\n",
       "        [-1.90679878e-01],\n",
       "        [-7.31934384e-02],\n",
       "        [ 1.40708104e-01],\n",
       "        [-1.02518648e-01],\n",
       "        [-1.70099378e-01],\n",
       "        [ 3.66616063e-02],\n",
       "        [-1.20934740e-01],\n",
       "        [-8.72647315e-02],\n",
       "        [-1.90296322e-01],\n",
       "        [-8.35494325e-02],\n",
       "        [-1.43840522e-01],\n",
       "        [ 7.36379996e-03],\n",
       "        [-8.08048695e-02],\n",
       "        [-6.41732812e-02],\n",
       "        [-1.87552646e-01],\n",
       "        [-3.23140658e-02],\n",
       "        [ 1.98302627e-01],\n",
       "        [ 9.52314958e-02],\n",
       "        [-1.11258954e-01],\n",
       "        [-2.93586068e-02],\n",
       "        [-1.95310935e-01],\n",
       "        [ 2.12822974e-01],\n",
       "        [ 4.54730764e-02],\n",
       "        [ 9.38416421e-02],\n",
       "        [-5.76188207e-01],\n",
       "        [-7.90394425e-01],\n",
       "        [ 9.22890007e-02],\n",
       "        [-2.52989959e-02],\n",
       "        [-1.26597911e-01],\n",
       "        [ 9.39284042e-02],\n",
       "        [-7.96369165e-02],\n",
       "        [-1.78243905e-01],\n",
       "        [ 2.97406390e-02],\n",
       "        [-1.37666032e-01],\n",
       "        [-1.29928559e-01],\n",
       "        [-5.26872993e-01],\n",
       "        [-2.99332023e-01],\n",
       "        [ 1.97814807e-01],\n",
       "        [-5.39684057e-01],\n",
       "        [-9.31829363e-02],\n",
       "        [-2.64251754e-02],\n",
       "        [ 9.69235078e-02],\n",
       "        [ 3.42299230e-02],\n",
       "        [-2.31958367e-03],\n",
       "        [-7.51170591e-02],\n",
       "        [ 1.67121813e-01],\n",
       "        [-1.69477925e-01],\n",
       "        [ 1.54009461e-01],\n",
       "        [-1.97260350e-01],\n",
       "        [ 5.46228960e-02],\n",
       "        [ 2.13268042e-01],\n",
       "        [ 1.72748163e-01],\n",
       "        [-3.64326313e-02],\n",
       "        [-5.36777526e-02],\n",
       "        [-1.52282134e-01],\n",
       "        [-2.01286837e-01],\n",
       "        [ 1.62606880e-01],\n",
       "        [ 1.37508325e-02],\n",
       "        [ 1.34295478e-01],\n",
       "        [ 6.54238090e-02],\n",
       "        [-1.05455697e-01],\n",
       "        [ 2.17376631e-02],\n",
       "        [ 9.03964136e-03],\n",
       "        [ 9.95640159e-02],\n",
       "        [ 2.62118697e-01],\n",
       "        [-8.47107731e-03],\n",
       "        [ 2.10510164e-01],\n",
       "        [-3.24926861e-02],\n",
       "        [-1.19142544e+00],\n",
       "        [ 1.78046837e-01],\n",
       "        [ 1.81703016e-01],\n",
       "        [ 1.97909884e-02],\n",
       "        [-3.93276662e-02],\n",
       "        [-6.53358921e-02],\n",
       "        [-4.46795225e-02],\n",
       "        [ 1.75851941e-01],\n",
       "        [-3.32917571e-01],\n",
       "        [-4.37774584e-02],\n",
       "        [-1.73488751e-01],\n",
       "        [-2.23578978e-02],\n",
       "        [-7.28282705e-02],\n",
       "        [ 7.95935392e-01],\n",
       "        [ 1.43593371e-01],\n",
       "        [ 7.44932666e-02],\n",
       "        [-2.03720406e-01],\n",
       "        [ 1.51290223e-01],\n",
       "        [ 2.00678676e-01],\n",
       "        [-5.62329888e-01],\n",
       "        [-1.23841763e-01],\n",
       "        [-2.46879477e-02],\n",
       "        [-2.29839757e-02]], dtype=float32),\n",
       " array([-0.8621171], dtype=float32)]"
      ]
     },
     "execution_count": 4,
     "metadata": {},
     "output_type": "execute_result"
    }
   ],
   "source": [
    "model.get_weights()"
   ]
  },
  {
   "cell_type": "code",
   "execution_count": 5,
   "metadata": {},
   "outputs": [],
   "source": [
    "# Step 2: Helper Functions\n",
    "# Function to decode reviews\n",
    "def decode_review(encoded_review):\n",
    "    return ' '.join([reverse_word_index.get(i - 3, '?') for i in encoded_review])\n",
    "\n",
    "# Function to preprocess user input\n",
    "def preprocess_text(text):\n",
    "    words = text.lower().split()\n",
    "    encoded_review = [word_index.get(word, 2) + 3 for word in words]\n",
    "    padded_review = sequence.pad_sequences([encoded_review], maxlen=500)\n",
    "    return padded_review"
   ]
  },
  {
   "cell_type": "code",
   "execution_count": 6,
   "metadata": {},
   "outputs": [],
   "source": [
    "### Prediction  function\n",
    "\n",
    "def predict_sentiment(review):\n",
    "    preprocessed_input=preprocess_text(review)\n",
    "\n",
    "    prediction=model.predict(preprocessed_input)\n",
    "\n",
    "    sentiment = 'Positive' if prediction[0][0] > 0.5 else 'Negative'\n",
    "    \n",
    "    return sentiment, prediction[0][0]\n",
    "\n"
   ]
  },
  {
   "cell_type": "code",
   "execution_count": 7,
   "metadata": {},
   "outputs": [
    {
     "name": "stdout",
     "output_type": "stream",
     "text": [
      "\u001b[1m1/1\u001b[0m \u001b[32m━━━━━━━━━━━━━━━━━━━━\u001b[0m\u001b[37m\u001b[0m \u001b[1m1s\u001b[0m 652ms/step\n",
      "Review: This movie was fantastic! The acting was great and the plot was thrilling.\n",
      "Sentiment: Positive\n",
      "Prediction Score: 0.583470344543457\n"
     ]
    }
   ],
   "source": [
    "# Step 4: User Input and Prediction\n",
    "# Example review for prediction\n",
    "example_review = \"This movie was fantastic! The acting was great and the plot was thrilling.\"\n",
    "\n",
    "sentiment,score=predict_sentiment(example_review)\n",
    "\n",
    "print(f'Review: {example_review}')\n",
    "print(f'Sentiment: {sentiment}')\n",
    "print(f'Prediction Score: {score}')"
   ]
  },
  {
   "cell_type": "code",
   "execution_count": null,
   "metadata": {},
   "outputs": [],
   "source": []
  },
  {
   "cell_type": "code",
   "execution_count": null,
   "metadata": {},
   "outputs": [],
   "source": []
  },
  {
   "cell_type": "code",
   "execution_count": null,
   "metadata": {},
   "outputs": [],
   "source": []
  },
  {
   "cell_type": "code",
   "execution_count": null,
   "metadata": {},
   "outputs": [],
   "source": []
  }
 ],
 "metadata": {
  "kernelspec": {
   "display_name": "Python 3",
   "language": "python",
   "name": "python3"
  },
  "language_info": {
   "codemirror_mode": {
    "name": "ipython",
    "version": 3
   },
   "file_extension": ".py",
   "mimetype": "text/x-python",
   "name": "python",
   "nbconvert_exporter": "python",
   "pygments_lexer": "ipython3",
   "version": "3.12.4"
  }
 },
 "nbformat": 4,
 "nbformat_minor": 2
}
